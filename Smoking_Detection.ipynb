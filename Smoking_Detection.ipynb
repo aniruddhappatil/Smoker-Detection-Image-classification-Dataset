{
  "nbformat": 4,
  "nbformat_minor": 0,
  "metadata": {
    "colab": {
      "provenance": []
    },
    "kernelspec": {
      "name": "python3",
      "display_name": "Python 3"
    },
    "language_info": {
      "name": "python"
    }
  },
  "cells": [
    {
      "cell_type": "code",
      "execution_count": null,
      "metadata": {
        "id": "WgT2PPqZmKAw"
      },
      "outputs": [],
      "source": [
        "import tensorflow as tf\n",
        "from keras.preprocessing.image import ImageDataGenerator as IDG"
      ]
    },
    {
      "cell_type": "code",
      "source": [
        "tf.__version__"
      ],
      "metadata": {
        "colab": {
          "base_uri": "https://localhost:8080/",
          "height": 35
        },
        "id": "YiFkXKb4qtg5",
        "outputId": "fed97077-b619-4c4c-a749-3714b1d87abe"
      },
      "execution_count": null,
      "outputs": [
        {
          "output_type": "execute_result",
          "data": {
            "text/plain": [
              "'2.15.0'"
            ],
            "application/vnd.google.colaboratory.intrinsic+json": {
              "type": "string"
            }
          },
          "metadata": {},
          "execution_count": 2
        }
      ]
    },
    {
      "cell_type": "code",
      "metadata": {
        "id": "hsFu1U9xDKJg",
        "colab": {
          "base_uri": "https://localhost:8080/"
        },
        "outputId": "6e067159-7b65-4375-ed07-76edf75d561f"
      },
      "source": [
        "from google.colab import drive\n",
        "drive.mount('/content/drive')"
      ],
      "execution_count": null,
      "outputs": [
        {
          "output_type": "stream",
          "name": "stdout",
          "text": [
            "Mounted at /content/drive\n"
          ]
        }
      ]
    },
    {
      "cell_type": "code",
      "source": [
        "train_datagen = IDG(rescale = 1./255,\n",
        "                    shear_range=0.3,\n",
        "                    zoom_range = 0.2,\n",
        "                    horizontal_flip = True)\n",
        "\n",
        "training_set = train_datagen.flow_from_directory(\"/content/drive/MyDrive/Smoking_DS/Training/\",\n",
        "                                                 target_size=(251,251),\n",
        "                                                 batch_size=32,\n",
        "                                                 class_mode=\"binary\")"
      ],
      "metadata": {
        "colab": {
          "base_uri": "https://localhost:8080/"
        },
        "id": "Wg6v_XuHuTGT",
        "outputId": "08d29f44-de87-4020-de5f-42a03eb2f624"
      },
      "execution_count": null,
      "outputs": [
        {
          "output_type": "stream",
          "name": "stdout",
          "text": [
            "Found 716 images belonging to 2 classes.\n"
          ]
        }
      ]
    },
    {
      "cell_type": "code",
      "source": [
        "test_datagen = IDG(rescale = 1./255)\n",
        "\n",
        "testing_set = test_datagen.flow_from_directory(\"/content/drive/MyDrive/Smoking_DS/Testing/\",\n",
        "                                               target_size = (251,251),\n",
        "                                               batch_size = 32,\n",
        "                                               class_mode = \"binary\")"
      ],
      "metadata": {
        "id": "ohKWGnHjj5s1",
        "colab": {
          "base_uri": "https://localhost:8080/"
        },
        "outputId": "5d9137fb-a786-46cc-f1c3-4fafa7200dfe"
      },
      "execution_count": null,
      "outputs": [
        {
          "output_type": "stream",
          "name": "stdout",
          "text": [
            "Found 224 images belonging to 2 classes.\n"
          ]
        }
      ]
    },
    {
      "cell_type": "code",
      "source": [
        "cnn = tf.keras.models.Sequential()\n",
        "cnn.add(tf.keras.layers.Conv2D(filters = 64,\n",
        "                               kernel_size = 3,\n",
        "                               activation = \"relu\",\n",
        "                               input_shape=[251,251,3]))"
      ],
      "metadata": {
        "id": "UjVNmn9mRYWD"
      },
      "execution_count": null,
      "outputs": []
    },
    {
      "cell_type": "code",
      "source": [
        "cnn.add(tf.keras.layers.MaxPool2D(pool_size=2,\n",
        "                                  strides=2))"
      ],
      "metadata": {
        "id": "vge82MbjJ9vT"
      },
      "execution_count": null,
      "outputs": []
    },
    {
      "cell_type": "code",
      "source": [
        "cnn.add(tf.keras.layers.Conv2D(filters = 64,\n",
        "                               kernel_size = 3,\n",
        "                               activation = \"relu\"))\n",
        "\n",
        "cnn.add(tf.keras.layers.MaxPool2D(pool_size=2,\n",
        "                                  strides=2))"
      ],
      "metadata": {
        "id": "8hOOtMn1Y4_U"
      },
      "execution_count": null,
      "outputs": []
    },
    {
      "cell_type": "code",
      "source": [
        "cnn.add(tf.keras.layers.Flatten())\n",
        "cnn.add(tf.keras.layers.Dense(units=128, activation=\"relu\"))"
      ],
      "metadata": {
        "id": "9cKdUfk_4qEj"
      },
      "execution_count": null,
      "outputs": []
    },
    {
      "cell_type": "code",
      "source": [
        "cnn.add(tf.keras.layers.Dense(units=1, activation=\"sigmoid\"))"
      ],
      "metadata": {
        "id": "pXxBdFNc5RMV"
      },
      "execution_count": null,
      "outputs": []
    },
    {
      "cell_type": "code",
      "source": [
        "cnn.compile(optimizer=\"Adam\", loss=\"binary_crossentropy\", metrics=['accuracy'])"
      ],
      "metadata": {
        "id": "i9e9aYXt6P1O"
      },
      "execution_count": null,
      "outputs": []
    },
    {
      "cell_type": "code",
      "source": [
        "model = cnn.fit(x = training_set, validation_data=testing_set, epochs = 20)"
      ],
      "metadata": {
        "colab": {
          "base_uri": "https://localhost:8080/"
        },
        "id": "iVuu5aVb6fKC",
        "outputId": "227ac2b9-13ec-4380-fbac-fbf2407c542b"
      },
      "execution_count": null,
      "outputs": [
        {
          "output_type": "stream",
          "name": "stdout",
          "text": [
            "Epoch 1/20\n",
            "23/23 [==============================] - 225s 10s/step - loss: 2.6843 - accuracy: 0.5391 - val_loss: 0.6820 - val_accuracy: 0.5000\n",
            "Epoch 2/20\n",
            "23/23 [==============================] - 96s 4s/step - loss: 0.6689 - accuracy: 0.5587 - val_loss: 0.6637 - val_accuracy: 0.5714\n",
            "Epoch 3/20\n",
            "23/23 [==============================] - 97s 4s/step - loss: 0.6282 - accuracy: 0.6466 - val_loss: 0.7163 - val_accuracy: 0.5491\n",
            "Epoch 4/20\n",
            "23/23 [==============================] - 95s 4s/step - loss: 0.6093 - accuracy: 0.6816 - val_loss: 0.6143 - val_accuracy: 0.6562\n",
            "Epoch 5/20\n",
            "23/23 [==============================] - 94s 4s/step - loss: 0.5779 - accuracy: 0.6969 - val_loss: 0.5859 - val_accuracy: 0.6607\n",
            "Epoch 6/20\n",
            "23/23 [==============================] - 96s 4s/step - loss: 0.5480 - accuracy: 0.7263 - val_loss: 0.5773 - val_accuracy: 0.7232\n",
            "Epoch 7/20\n",
            "23/23 [==============================] - 93s 4s/step - loss: 0.5893 - accuracy: 0.7067 - val_loss: 0.6065 - val_accuracy: 0.6652\n",
            "Epoch 8/20\n",
            "23/23 [==============================] - 94s 4s/step - loss: 0.5708 - accuracy: 0.7039 - val_loss: 0.5662 - val_accuracy: 0.7188\n",
            "Epoch 9/20\n",
            "23/23 [==============================] - 95s 4s/step - loss: 0.5404 - accuracy: 0.7318 - val_loss: 0.5434 - val_accuracy: 0.7143\n",
            "Epoch 10/20\n",
            "23/23 [==============================] - 94s 4s/step - loss: 0.5222 - accuracy: 0.7235 - val_loss: 0.5289 - val_accuracy: 0.7098\n",
            "Epoch 11/20\n",
            "23/23 [==============================] - 91s 4s/step - loss: 0.5282 - accuracy: 0.7388 - val_loss: 0.5655 - val_accuracy: 0.7143\n",
            "Epoch 12/20\n",
            "23/23 [==============================] - 90s 4s/step - loss: 0.5247 - accuracy: 0.7374 - val_loss: 0.5433 - val_accuracy: 0.7143\n",
            "Epoch 13/20\n",
            "23/23 [==============================] - 103s 4s/step - loss: 0.5265 - accuracy: 0.7318 - val_loss: 0.5356 - val_accuracy: 0.7188\n",
            "Epoch 14/20\n",
            "23/23 [==============================] - 94s 4s/step - loss: 0.5164 - accuracy: 0.7584 - val_loss: 0.5584 - val_accuracy: 0.7232\n",
            "Epoch 15/20\n",
            "23/23 [==============================] - 94s 4s/step - loss: 0.5122 - accuracy: 0.7472 - val_loss: 0.5310 - val_accuracy: 0.7411\n",
            "Epoch 16/20\n",
            "23/23 [==============================] - 95s 4s/step - loss: 0.4962 - accuracy: 0.7598 - val_loss: 0.5549 - val_accuracy: 0.7277\n",
            "Epoch 17/20\n",
            "23/23 [==============================] - 91s 4s/step - loss: 0.4894 - accuracy: 0.7514 - val_loss: 0.5244 - val_accuracy: 0.7232\n",
            "Epoch 18/20\n",
            "23/23 [==============================] - 101s 4s/step - loss: 0.4580 - accuracy: 0.7807 - val_loss: 0.5083 - val_accuracy: 0.7411\n",
            "Epoch 19/20\n",
            "23/23 [==============================] - 91s 4s/step - loss: 0.4688 - accuracy: 0.7793 - val_loss: 0.5486 - val_accuracy: 0.7232\n",
            "Epoch 20/20\n",
            "23/23 [==============================] - 93s 4s/step - loss: 0.4541 - accuracy: 0.7835 - val_loss: 0.5274 - val_accuracy: 0.7321\n"
          ]
        }
      ]
    },
    {
      "cell_type": "code",
      "source": [
        "cnn.save(\"Smoking_CNN.h5\")"
      ],
      "metadata": {
        "id": "2mkux2YV7GaB",
        "colab": {
          "base_uri": "https://localhost:8080/"
        },
        "outputId": "2dea8d1d-3ed7-4cf9-a3e6-e5196e7264bf"
      },
      "execution_count": null,
      "outputs": [
        {
          "output_type": "stream",
          "name": "stderr",
          "text": [
            "/usr/local/lib/python3.10/dist-packages/keras/src/engine/training.py:3103: UserWarning: You are saving your model as an HDF5 file via `model.save()`. This file format is considered legacy. We recommend using instead the native Keras format, e.g. `model.save('my_model.keras')`.\n",
            "  saving_api.save_model(\n"
          ]
        }
      ]
    },
    {
      "cell_type": "code",
      "source": [
        "import matplotlib.pyplot as plt\n",
        "\n",
        "plt.plot(model.history['accuracy'])\n",
        "plt.plot(model.history['val_accuracy'])\n",
        "plt.title('model accuracy')\n",
        "plt.ylabel('accuracy')\n",
        "plt.xlabel('epoch')\n",
        "plt.legend(['Train', 'Validation'], loc='upper left')\n",
        "plt.show()"
      ],
      "metadata": {
        "colab": {
          "base_uri": "https://localhost:8080/",
          "height": 472
        },
        "id": "h9D2C5A1uHfA",
        "outputId": "5354cd25-2e5a-4144-83b0-627f55da3ba6"
      },
      "execution_count": null,
      "outputs": [
        {
          "output_type": "display_data",
          "data": {
            "text/plain": [
              "<Figure size 640x480 with 1 Axes>"
            ],
            "image/png": "[encoded data removed]"
          },
          "metadata": {}
        }
      ]
    },
    {
      "cell_type": "code",
      "source": [],
      "metadata": {
        "id": "nxp8NXyhwynX"
      },
      "execution_count": null,
      "outputs": []
    }
  ]
}